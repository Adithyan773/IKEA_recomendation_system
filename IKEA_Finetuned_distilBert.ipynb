{
  "nbformat": 4,
  "nbformat_minor": 0,
  "metadata": {
    "colab": {
      "provenance": [],
      "gpuType": "T4",
      "mount_file_id": "1rSBb7Bqta0zM7S_DhMucCKHrmooL8T4K",
      "authorship_tag": "ABX9TyOy5F6/AS/hIxclrof9ChUr",
      "include_colab_link": true
    },
    "kernelspec": {
      "name": "python3",
      "display_name": "Python 3"
    },
    "language_info": {
      "name": "python"
    },
    "accelerator": "GPU"
  },
  "cells": [
    {
      "cell_type": "markdown",
      "metadata": {
        "id": "view-in-github",
        "colab_type": "text"
      },
      "source": [
        "<a href=\"https://colab.research.google.com/github/Adithyan773/IKEA_recomendation_system/blob/main/IKEA_Finetuned_distilBert.ipynb\" target=\"_parent\"><img src=\"https://colab.research.google.com/assets/colab-badge.svg\" alt=\"Open In Colab\"/></a>"
      ]
    },
    {
      "cell_type": "code",
      "source": [
        "!pip install --upgrade transformers"
      ],
      "metadata": {
        "id": "5ts7-zLZk3nj"
      },
      "execution_count": null,
      "outputs": []
    },
    {
      "cell_type": "code",
      "source": [
        "!pip install datasets"
      ],
      "metadata": {
        "id": "jqVVz6zeoC9c"
      },
      "execution_count": null,
      "outputs": []
    },
    {
      "cell_type": "code",
      "execution_count": null,
      "metadata": {
        "id": "f7fPqJSlkngO"
      },
      "outputs": [],
      "source": [
        "import numpy as np\n",
        "import pandas as pd\n",
        "from transformers import DistilBertForSequenceClassification, DistilBertTokenizer, Trainer, TrainingArguments, EarlyStoppingCallback, DistilBertModel\n",
        "from datasets import Dataset\n",
        "from sklearn.model_selection import train_test_split\n",
        "from sklearn.metrics import accuracy_score, precision_recall_fscore_support\n",
        "from sklearn.utils.class_weight import compute_class_weight\n",
        "import torch\n",
        "\n",
        "# Load the CSV dataset\n",
        "df = pd.read_csv('/content/ikea_data_img_fixed.csv')\n",
        "\n",
        "# Check for missing values in critical columns and handle them\n",
        "df = df.dropna(subset=['name', 'short_description', 'image_description', 'category'])\n",
        "print(\"Rows after dropping NaN in critical columns:\", len(df))\n",
        "\n",
        "# Check class distribution\n",
        "print(\"Class distribution:\\n\", df['category'].value_counts())\n",
        "\n",
        "# Map categories to numerical labels\n",
        "unique_categories = df['category'].unique()\n",
        "category_to_id = {cat: idx for idx, cat in enumerate(unique_categories)}\n",
        "id_to_category = {idx: cat for cat, idx in category_to_id.items()}\n",
        "df['label'] = df['category'].map(category_to_id)\n",
        "\n",
        "# Combine text fields for input\n",
        "df['text'] = df['name'] + ' ' + df['short_description'] + ' ' + df['image_description']\n",
        "\n",
        "# Split into train and validation sets\n",
        "train_df, val_df = train_test_split(df, test_size=0.2, stratify=df['label'], random_state=42)\n",
        "\n",
        "# Create Hugging Face Dataset objects\n",
        "train_dataset = Dataset.from_pandas(train_df[['text', 'label']])\n",
        "val_dataset = Dataset.from_pandas(val_df[['text', 'label']])\n",
        "\n",
        "# Load DistilBERT tokenizer\n",
        "tokenizer = DistilBertTokenizer.from_pretrained('distilbert-base-uncased')\n",
        "\n",
        "# Tokenize the text\n",
        "def tokenize_function(examples):\n",
        "    return tokenizer(examples['text'], padding='max_length', truncation=True, max_length=128)\n",
        "\n",
        "train_dataset = train_dataset.map(tokenize_function, batched=True)\n",
        "val_dataset = val_dataset.map(tokenize_function, batched=True)\n",
        "\n",
        "# Set format for PyTorch\n",
        "train_dataset.set_format(type='torch', columns=['input_ids', 'attention_mask', 'label'])\n",
        "val_dataset.set_format(type='torch', columns=['input_ids', 'attention_mask', 'label'])\n",
        "\n",
        "# Compute class weights\n",
        "labels = train_df['label'].values\n",
        "class_weights = compute_class_weight('balanced', classes=np.unique(labels), y=labels)\n",
        "class_weights = torch.tensor(class_weights, dtype=torch.float).to('cuda' if torch.cuda.is_available() else 'cpu')\n",
        "\n",
        "# Load DistilBERT model for classification\n",
        "num_labels = len(unique_categories)\n",
        "model = DistilBertForSequenceClassification.from_pretrained('distilbert-base-uncased', num_labels=num_labels)\n",
        "model.to('cuda' if torch.cuda.is_available() else 'cpu')  # Ensure model is on the correct device\n",
        "\n",
        "# Compute metrics with per-class F1 scores\n",
        "def compute_metrics(pred):\n",
        "    labels = pred.label_ids\n",
        "    preds = pred.predictions.argmax(-1)\n",
        "    acc = accuracy_score(labels, preds)\n",
        "    precision, recall, f1, _ = precision_recall_fscore_support(labels, preds, average='weighted', zero_division=1)\n",
        "    per_class_f1 = precision_recall_fscore_support(labels, preds, average=None, zero_division=1)[2]\n",
        "    per_class_f1_dict = {id_to_category[i]: f1_score for i, f1_score in enumerate(per_class_f1)}\n",
        "    print(\"Per-class F1 scores:\", per_class_f1_dict)\n",
        "    metrics = {\n",
        "        'accuracy': acc,\n",
        "        'precision': precision,\n",
        "        'recall': recall,\n",
        "        'f1': f1,\n",
        "        'per_class_f1': per_class_f1.tolist()\n",
        "    }\n",
        "    return metrics\n",
        "\n",
        "# Define weighted trainer\n",
        "class WeightedTrainer(Trainer):\n",
        "    def compute_loss(self, model, inputs, return_outputs=False, num_items_in_batch=None):\n",
        "        labels = inputs.pop(\"labels\")\n",
        "        outputs = model(**inputs)\n",
        "        logits = outputs.logits\n",
        "        loss_fct = torch.nn.CrossEntropyLoss(weight=class_weights)\n",
        "        loss = loss_fct(logits, labels)\n",
        "        return (loss, outputs) if return_outputs else loss\n",
        "\n",
        "# Training arguments\n",
        "training_args = TrainingArguments(\n",
        "    output_dir='./results',\n",
        "    num_train_epochs=30,\n",
        "    per_device_train_batch_size=32,\n",
        "    per_device_eval_batch_size=32,\n",
        "    eval_strategy='epoch',\n",
        "    save_strategy='epoch',\n",
        "    load_best_model_at_end=True,\n",
        "    metric_for_best_model='accuracy',\n",
        "    logging_dir='./logs',\n",
        "    logging_steps=10,\n",
        "    learning_rate=2e-5,\n",
        "    warmup_steps=100,\n",
        "    report_to=\"none\"\n",
        ")\n",
        "\n",
        "# Initialize trainer\n",
        "trainer = WeightedTrainer(\n",
        "    model=model,\n",
        "    args=training_args,\n",
        "    train_dataset=train_dataset,\n",
        "    eval_dataset=val_dataset,\n",
        "    compute_metrics=compute_metrics,\n",
        "    callbacks=[EarlyStoppingCallback(early_stopping_patience=10)]\n",
        ")\n",
        "\n",
        "# Train the model\n",
        "trainer.train()\n",
        "\n",
        "# Save the model and tokenizer\n",
        "model.save_pretrained('./fine_tuned_distilbert_v3')\n",
        "tokenizer.save_pretrained('./fine_tuned_distilbert_v3')\n",
        "\n",
        "print(\"Fine-tuning completed.\")"
      ]
    }
  ]
}