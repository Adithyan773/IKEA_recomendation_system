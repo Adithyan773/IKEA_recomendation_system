{
  "nbformat": 4,
  "nbformat_minor": 0,
  "metadata": {
    "colab": {
      "provenance": [],
      "mount_file_id": "1ZFDvGPy9Jf-LYxhcu7_4RSsVB-9bDdrX",
      "authorship_tag": "ABX9TyP4BhAkDLXI3DEWG6krQfJ5",
      "include_colab_link": true
    },
    "kernelspec": {
      "name": "python3",
      "display_name": "Python 3"
    },
    "language_info": {
      "name": "python"
    }
  },
  "cells": [
    {
      "cell_type": "markdown",
      "metadata": {
        "id": "view-in-github",
        "colab_type": "text"
      },
      "source": [
        "<a href=\"https://colab.research.google.com/github/Adithyan773/IKEA_recomendation_system/blob/main/ikea_resnet_model.ipynb\" target=\"_parent\"><img src=\"https://colab.research.google.com/assets/colab-badge.svg\" alt=\"Open In Colab\"/></a>"
      ]
    },
    {
      "cell_type": "code",
      "source": [
        "!pip install -q tensorflow"
      ],
      "metadata": {
        "id": "0ZILARbDXqfy"
      },
      "execution_count": null,
      "outputs": []
    },
    {
      "cell_type": "code",
      "source": [
        "!pip install -q faiss-cpu"
      ],
      "metadata": {
        "id": "KSwwESbKYqjK"
      },
      "execution_count": null,
      "outputs": []
    },
    {
      "cell_type": "code",
      "execution_count": null,
      "metadata": {
        "id": "hiGAGfzgVYPR"
      },
      "outputs": [],
      "source": [
        "import numpy as np\n",
        "import tensorflow as tf\n",
        "from tensorflow.keras.applications import ResNet50\n",
        "from tensorflow.keras.applications.resnet50 import preprocess_input\n",
        "from tensorflow.keras.preprocessing.image import load_img, img_to_array\n",
        "from tensorflow.keras.models import Model\n",
        "from tensorflow.keras.layers import Dense, Input\n",
        "import pandas as pd\n",
        "import os\n",
        "import faiss\n",
        "\n",
        "df = pd.read_csv('/content/ikea_data_img_fixed.csv')\n",
        "image_dir = '/content/drive/MyDrive/images/images'\n",
        "image_paths = [os.path.join(image_dir, f\"{row['item_id']}.jpg\") for _, row in df.iterrows() if pd.notna(row['item_id'])]\n",
        "valid_paths = [path for path in image_paths if os.path.exists(path)]\n",
        "\n",
        "base_model = ResNet50(weights='imagenet', include_top=False, pooling='avg')\n",
        "image_input = Input(shape=(224, 224, 3))\n",
        "x = base_model(image_input, training=False)\n",
        "image_embedding = Dense(256, activation='relu', name='image_embedding')(x)\n",
        "image_model = Model(inputs=image_input, outputs=image_embedding)\n",
        "\n",
        "def preprocess_image(image_path):\n",
        "    try:\n",
        "        img = load_img(image_path, target_size=(224, 224))\n",
        "        img_array = img_to_array(img)\n",
        "        img_array = np.expand_dims(img_array, axis=0)\n",
        "        return preprocess_input(img_array)\n",
        "    except:\n",
        "        return np.zeros((1, 224, 224, 3))\n",
        "\n",
        "image_data = np.vstack([preprocess_image(path) for path in valid_paths])\n",
        "\n",
        "image_embeddings = image_model.predict(image_data)\n",
        "\n",
        "d = 256\n",
        "image_index = faiss.IndexFlatL2(d)\n",
        "image_index.add(image_embeddings)\n",
        "\n",
        "faiss.write_index(image_index, '/content/image_embeddings_fixed.faiss')\n",
        "np.save('/content/image_paths_fixed.npy', np.array(valid_paths))\n",
        "\n",
        "print(\"Image embedings shape \", image_embeddings.shape)"
      ]
    },
    {
      "cell_type": "code",
      "source": [],
      "metadata": {
        "id": "db8DINRacI2k"
      },
      "execution_count": null,
      "outputs": []
    }
  ]
}